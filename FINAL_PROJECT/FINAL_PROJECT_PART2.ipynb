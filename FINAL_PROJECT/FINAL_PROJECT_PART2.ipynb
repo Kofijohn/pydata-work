{
 "cells": [
  {
   "cell_type": "code",
   "execution_count": 4,
   "metadata": {},
   "outputs": [],
   "source": [
    "import pandas as pd"
   ]
  },
  {
   "cell_type": "code",
   "execution_count": 5,
   "metadata": {},
   "outputs": [
    {
     "data": {
      "text/html": [
       "<div>\n",
       "<style scoped>\n",
       "    .dataframe tbody tr th:only-of-type {\n",
       "        vertical-align: middle;\n",
       "    }\n",
       "\n",
       "    .dataframe tbody tr th {\n",
       "        vertical-align: top;\n",
       "    }\n",
       "\n",
       "    .dataframe thead th {\n",
       "        text-align: right;\n",
       "    }\n",
       "</style>\n",
       "<table border=\"1\" class=\"dataframe\">\n",
       "  <thead>\n",
       "    <tr style=\"text-align: right;\">\n",
       "      <th></th>\n",
       "      <th>date</th>\n",
       "      <th>country</th>\n",
       "      <th>state</th>\n",
       "      <th>county</th>\n",
       "      <th>fips</th>\n",
       "      <th>lat</th>\n",
       "      <th>long</th>\n",
       "      <th>locationId</th>\n",
       "      <th>actuals.cases</th>\n",
       "      <th>actuals.deaths</th>\n",
       "      <th>...</th>\n",
       "      <th>metrics.infectionRate</th>\n",
       "      <th>metrics.infectionRateCI90</th>\n",
       "      <th>metrics.icuHeadroomRatio</th>\n",
       "      <th>metrics.icuHeadroomDetails</th>\n",
       "      <th>metrics.icuCapacityRatio</th>\n",
       "      <th>riskLevels.overall</th>\n",
       "      <th>metrics.vaccinationsInitiatedRatio</th>\n",
       "      <th>metrics.vaccinationsCompletedRatio</th>\n",
       "      <th>actuals.newDeaths</th>\n",
       "      <th>actuals.vaccinesAdministered</th>\n",
       "    </tr>\n",
       "  </thead>\n",
       "  <tbody>\n",
       "    <tr>\n",
       "      <td>0</td>\n",
       "      <td>2020-03-02</td>\n",
       "      <td>US</td>\n",
       "      <td>PA</td>\n",
       "      <td>NaN</td>\n",
       "      <td>42</td>\n",
       "      <td>NaN</td>\n",
       "      <td>NaN</td>\n",
       "      <td>iso1:us#iso2:us-pa</td>\n",
       "      <td>NaN</td>\n",
       "      <td>NaN</td>\n",
       "      <td>...</td>\n",
       "      <td>NaN</td>\n",
       "      <td>NaN</td>\n",
       "      <td>NaN</td>\n",
       "      <td>NaN</td>\n",
       "      <td>NaN</td>\n",
       "      <td>0</td>\n",
       "      <td>NaN</td>\n",
       "      <td>NaN</td>\n",
       "      <td>NaN</td>\n",
       "      <td>NaN</td>\n",
       "    </tr>\n",
       "    <tr>\n",
       "      <td>1</td>\n",
       "      <td>2020-03-03</td>\n",
       "      <td>US</td>\n",
       "      <td>PA</td>\n",
       "      <td>NaN</td>\n",
       "      <td>42</td>\n",
       "      <td>NaN</td>\n",
       "      <td>NaN</td>\n",
       "      <td>iso1:us#iso2:us-pa</td>\n",
       "      <td>NaN</td>\n",
       "      <td>NaN</td>\n",
       "      <td>...</td>\n",
       "      <td>NaN</td>\n",
       "      <td>NaN</td>\n",
       "      <td>NaN</td>\n",
       "      <td>NaN</td>\n",
       "      <td>NaN</td>\n",
       "      <td>0</td>\n",
       "      <td>NaN</td>\n",
       "      <td>NaN</td>\n",
       "      <td>NaN</td>\n",
       "      <td>NaN</td>\n",
       "    </tr>\n",
       "    <tr>\n",
       "      <td>2</td>\n",
       "      <td>2020-03-04</td>\n",
       "      <td>US</td>\n",
       "      <td>PA</td>\n",
       "      <td>NaN</td>\n",
       "      <td>42</td>\n",
       "      <td>NaN</td>\n",
       "      <td>NaN</td>\n",
       "      <td>iso1:us#iso2:us-pa</td>\n",
       "      <td>NaN</td>\n",
       "      <td>NaN</td>\n",
       "      <td>...</td>\n",
       "      <td>NaN</td>\n",
       "      <td>NaN</td>\n",
       "      <td>NaN</td>\n",
       "      <td>NaN</td>\n",
       "      <td>NaN</td>\n",
       "      <td>0</td>\n",
       "      <td>NaN</td>\n",
       "      <td>NaN</td>\n",
       "      <td>NaN</td>\n",
       "      <td>NaN</td>\n",
       "    </tr>\n",
       "    <tr>\n",
       "      <td>3</td>\n",
       "      <td>2020-03-05</td>\n",
       "      <td>US</td>\n",
       "      <td>PA</td>\n",
       "      <td>NaN</td>\n",
       "      <td>42</td>\n",
       "      <td>NaN</td>\n",
       "      <td>NaN</td>\n",
       "      <td>iso1:us#iso2:us-pa</td>\n",
       "      <td>NaN</td>\n",
       "      <td>NaN</td>\n",
       "      <td>...</td>\n",
       "      <td>NaN</td>\n",
       "      <td>NaN</td>\n",
       "      <td>NaN</td>\n",
       "      <td>NaN</td>\n",
       "      <td>NaN</td>\n",
       "      <td>0</td>\n",
       "      <td>NaN</td>\n",
       "      <td>NaN</td>\n",
       "      <td>NaN</td>\n",
       "      <td>NaN</td>\n",
       "    </tr>\n",
       "    <tr>\n",
       "      <td>4</td>\n",
       "      <td>2020-03-06</td>\n",
       "      <td>US</td>\n",
       "      <td>PA</td>\n",
       "      <td>NaN</td>\n",
       "      <td>42</td>\n",
       "      <td>NaN</td>\n",
       "      <td>NaN</td>\n",
       "      <td>iso1:us#iso2:us-pa</td>\n",
       "      <td>2.0</td>\n",
       "      <td>0.0</td>\n",
       "      <td>...</td>\n",
       "      <td>NaN</td>\n",
       "      <td>NaN</td>\n",
       "      <td>NaN</td>\n",
       "      <td>NaN</td>\n",
       "      <td>NaN</td>\n",
       "      <td>0</td>\n",
       "      <td>NaN</td>\n",
       "      <td>NaN</td>\n",
       "      <td>NaN</td>\n",
       "      <td>NaN</td>\n",
       "    </tr>\n",
       "    <tr>\n",
       "      <td>...</td>\n",
       "      <td>...</td>\n",
       "      <td>...</td>\n",
       "      <td>...</td>\n",
       "      <td>...</td>\n",
       "      <td>...</td>\n",
       "      <td>...</td>\n",
       "      <td>...</td>\n",
       "      <td>...</td>\n",
       "      <td>...</td>\n",
       "      <td>...</td>\n",
       "      <td>...</td>\n",
       "      <td>...</td>\n",
       "      <td>...</td>\n",
       "      <td>...</td>\n",
       "      <td>...</td>\n",
       "      <td>...</td>\n",
       "      <td>...</td>\n",
       "      <td>...</td>\n",
       "      <td>...</td>\n",
       "      <td>...</td>\n",
       "      <td>...</td>\n",
       "    </tr>\n",
       "    <tr>\n",
       "      <td>496</td>\n",
       "      <td>2021-06-21</td>\n",
       "      <td>US</td>\n",
       "      <td>PA</td>\n",
       "      <td>NaN</td>\n",
       "      <td>42</td>\n",
       "      <td>NaN</td>\n",
       "      <td>NaN</td>\n",
       "      <td>iso1:us#iso2:us-pa</td>\n",
       "      <td>1215116.0</td>\n",
       "      <td>27623.0</td>\n",
       "      <td>...</td>\n",
       "      <td>0.68</td>\n",
       "      <td>0.12</td>\n",
       "      <td>NaN</td>\n",
       "      <td>NaN</td>\n",
       "      <td>NaN</td>\n",
       "      <td>1</td>\n",
       "      <td>0.619</td>\n",
       "      <td>0.485</td>\n",
       "      <td>2.0</td>\n",
       "      <td>13631788.0</td>\n",
       "    </tr>\n",
       "    <tr>\n",
       "      <td>497</td>\n",
       "      <td>2021-06-22</td>\n",
       "      <td>US</td>\n",
       "      <td>PA</td>\n",
       "      <td>NaN</td>\n",
       "      <td>42</td>\n",
       "      <td>NaN</td>\n",
       "      <td>NaN</td>\n",
       "      <td>iso1:us#iso2:us-pa</td>\n",
       "      <td>1215239.0</td>\n",
       "      <td>27655.0</td>\n",
       "      <td>...</td>\n",
       "      <td>0.68</td>\n",
       "      <td>0.14</td>\n",
       "      <td>NaN</td>\n",
       "      <td>NaN</td>\n",
       "      <td>NaN</td>\n",
       "      <td>1</td>\n",
       "      <td>0.620</td>\n",
       "      <td>0.486</td>\n",
       "      <td>32.0</td>\n",
       "      <td>13651077.0</td>\n",
       "    </tr>\n",
       "    <tr>\n",
       "      <td>498</td>\n",
       "      <td>2021-06-23</td>\n",
       "      <td>US</td>\n",
       "      <td>PA</td>\n",
       "      <td>NaN</td>\n",
       "      <td>42</td>\n",
       "      <td>NaN</td>\n",
       "      <td>NaN</td>\n",
       "      <td>iso1:us#iso2:us-pa</td>\n",
       "      <td>1215374.0</td>\n",
       "      <td>27662.0</td>\n",
       "      <td>...</td>\n",
       "      <td>0.67</td>\n",
       "      <td>0.16</td>\n",
       "      <td>NaN</td>\n",
       "      <td>NaN</td>\n",
       "      <td>NaN</td>\n",
       "      <td>1</td>\n",
       "      <td>0.621</td>\n",
       "      <td>0.487</td>\n",
       "      <td>7.0</td>\n",
       "      <td>13679110.0</td>\n",
       "    </tr>\n",
       "    <tr>\n",
       "      <td>499</td>\n",
       "      <td>2021-06-24</td>\n",
       "      <td>US</td>\n",
       "      <td>PA</td>\n",
       "      <td>NaN</td>\n",
       "      <td>42</td>\n",
       "      <td>NaN</td>\n",
       "      <td>NaN</td>\n",
       "      <td>iso1:us#iso2:us-pa</td>\n",
       "      <td>1215735.0</td>\n",
       "      <td>27675.0</td>\n",
       "      <td>...</td>\n",
       "      <td>0.67</td>\n",
       "      <td>0.18</td>\n",
       "      <td>NaN</td>\n",
       "      <td>NaN</td>\n",
       "      <td>NaN</td>\n",
       "      <td>1</td>\n",
       "      <td>0.622</td>\n",
       "      <td>0.489</td>\n",
       "      <td>13.0</td>\n",
       "      <td>13715484.0</td>\n",
       "    </tr>\n",
       "    <tr>\n",
       "      <td>500</td>\n",
       "      <td>2021-06-25</td>\n",
       "      <td>US</td>\n",
       "      <td>PA</td>\n",
       "      <td>NaN</td>\n",
       "      <td>42</td>\n",
       "      <td>NaN</td>\n",
       "      <td>NaN</td>\n",
       "      <td>iso1:us#iso2:us-pa</td>\n",
       "      <td>NaN</td>\n",
       "      <td>NaN</td>\n",
       "      <td>...</td>\n",
       "      <td>NaN</td>\n",
       "      <td>NaN</td>\n",
       "      <td>NaN</td>\n",
       "      <td>NaN</td>\n",
       "      <td>NaN</td>\n",
       "      <td>1</td>\n",
       "      <td>NaN</td>\n",
       "      <td>NaN</td>\n",
       "      <td>NaN</td>\n",
       "      <td>NaN</td>\n",
       "    </tr>\n",
       "  </tbody>\n",
       "</table>\n",
       "<p>501 rows × 39 columns</p>\n",
       "</div>"
      ],
      "text/plain": [
       "           date country state  county  fips  lat  long          locationId  \\\n",
       "0    2020-03-02      US    PA     NaN    42  NaN   NaN  iso1:us#iso2:us-pa   \n",
       "1    2020-03-03      US    PA     NaN    42  NaN   NaN  iso1:us#iso2:us-pa   \n",
       "2    2020-03-04      US    PA     NaN    42  NaN   NaN  iso1:us#iso2:us-pa   \n",
       "3    2020-03-05      US    PA     NaN    42  NaN   NaN  iso1:us#iso2:us-pa   \n",
       "4    2020-03-06      US    PA     NaN    42  NaN   NaN  iso1:us#iso2:us-pa   \n",
       "..          ...     ...   ...     ...   ...  ...   ...                 ...   \n",
       "496  2021-06-21      US    PA     NaN    42  NaN   NaN  iso1:us#iso2:us-pa   \n",
       "497  2021-06-22      US    PA     NaN    42  NaN   NaN  iso1:us#iso2:us-pa   \n",
       "498  2021-06-23      US    PA     NaN    42  NaN   NaN  iso1:us#iso2:us-pa   \n",
       "499  2021-06-24      US    PA     NaN    42  NaN   NaN  iso1:us#iso2:us-pa   \n",
       "500  2021-06-25      US    PA     NaN    42  NaN   NaN  iso1:us#iso2:us-pa   \n",
       "\n",
       "     actuals.cases  actuals.deaths  ...  metrics.infectionRate  \\\n",
       "0              NaN             NaN  ...                    NaN   \n",
       "1              NaN             NaN  ...                    NaN   \n",
       "2              NaN             NaN  ...                    NaN   \n",
       "3              NaN             NaN  ...                    NaN   \n",
       "4              2.0             0.0  ...                    NaN   \n",
       "..             ...             ...  ...                    ...   \n",
       "496      1215116.0         27623.0  ...                   0.68   \n",
       "497      1215239.0         27655.0  ...                   0.68   \n",
       "498      1215374.0         27662.0  ...                   0.67   \n",
       "499      1215735.0         27675.0  ...                   0.67   \n",
       "500            NaN             NaN  ...                    NaN   \n",
       "\n",
       "     metrics.infectionRateCI90 metrics.icuHeadroomRatio  \\\n",
       "0                          NaN                      NaN   \n",
       "1                          NaN                      NaN   \n",
       "2                          NaN                      NaN   \n",
       "3                          NaN                      NaN   \n",
       "4                          NaN                      NaN   \n",
       "..                         ...                      ...   \n",
       "496                       0.12                      NaN   \n",
       "497                       0.14                      NaN   \n",
       "498                       0.16                      NaN   \n",
       "499                       0.18                      NaN   \n",
       "500                        NaN                      NaN   \n",
       "\n",
       "     metrics.icuHeadroomDetails  metrics.icuCapacityRatio  riskLevels.overall  \\\n",
       "0                           NaN                       NaN                   0   \n",
       "1                           NaN                       NaN                   0   \n",
       "2                           NaN                       NaN                   0   \n",
       "3                           NaN                       NaN                   0   \n",
       "4                           NaN                       NaN                   0   \n",
       "..                          ...                       ...                 ...   \n",
       "496                         NaN                       NaN                   1   \n",
       "497                         NaN                       NaN                   1   \n",
       "498                         NaN                       NaN                   1   \n",
       "499                         NaN                       NaN                   1   \n",
       "500                         NaN                       NaN                   1   \n",
       "\n",
       "     metrics.vaccinationsInitiatedRatio  metrics.vaccinationsCompletedRatio  \\\n",
       "0                                   NaN                                 NaN   \n",
       "1                                   NaN                                 NaN   \n",
       "2                                   NaN                                 NaN   \n",
       "3                                   NaN                                 NaN   \n",
       "4                                   NaN                                 NaN   \n",
       "..                                  ...                                 ...   \n",
       "496                               0.619                               0.485   \n",
       "497                               0.620                               0.486   \n",
       "498                               0.621                               0.487   \n",
       "499                               0.622                               0.489   \n",
       "500                                 NaN                                 NaN   \n",
       "\n",
       "     actuals.newDeaths actuals.vaccinesAdministered  \n",
       "0                  NaN                          NaN  \n",
       "1                  NaN                          NaN  \n",
       "2                  NaN                          NaN  \n",
       "3                  NaN                          NaN  \n",
       "4                  NaN                          NaN  \n",
       "..                 ...                          ...  \n",
       "496                2.0                   13631788.0  \n",
       "497               32.0                   13651077.0  \n",
       "498                7.0                   13679110.0  \n",
       "499               13.0                   13715484.0  \n",
       "500                NaN                          NaN  \n",
       "\n",
       "[501 rows x 39 columns]"
      ]
     },
     "execution_count": 5,
     "metadata": {},
     "output_type": "execute_result"
    }
   ],
   "source": [
    "data=pd.read_csv('FINAL.csv')\n",
    "data"
   ]
  },
  {
   "cell_type": "markdown",
   "metadata": {},
   "source": [
    "# Duplications"
   ]
  },
  {
   "cell_type": "code",
   "execution_count": 6,
   "metadata": {},
   "outputs": [
    {
     "data": {
      "text/plain": [
       "date                                      2020-03-022020-03-032020-03-042020-03-052020-0...\n",
       "country                                            USUSUSUSUSUSUSUSUSUSUSUSUSUSUSUSUSUSUSUS\n",
       "state                                              PAPAPAPAPAPAPAPAPAPAPAPAPAPAPAPAPAPAPAPA\n",
       "county                                                                                    0\n",
       "fips                                                                                    840\n",
       "lat                                                                                       0\n",
       "long                                                                                      0\n",
       "locationId                                iso1:us#iso2:us-paiso1:us#iso2:us-paiso1:us#is...\n",
       "actuals.cases                                                                   1.63458e+06\n",
       "actuals.deaths                                                                        82153\n",
       "actuals.positiveTests                                                           2.13701e+06\n",
       "actuals.negativeTests                                                           3.28623e+07\n",
       "actuals.contactTracers                    Not availableNot availableNot availableNot ava...\n",
       "actuals.hospitalBeds.capacity                                                             0\n",
       "actuals.hospitalBeds.currentUsageTotal                                               244384\n",
       "actuals.hospitalBeds.currentUsageCovid                                                10209\n",
       "actuals.hospitalBeds.typicalUsageRate                                                     0\n",
       "actuals.icuBeds.capacity                                                              33981\n",
       "actuals.icuBeds.currentUsageTotal                                                     27850\n",
       "actuals.icuBeds.currentUsageCovid         Not AvailableNot AvailableNot AvailableNot Ava...\n",
       "actuals.icuBeds.typicalUsageRate                                                          0\n",
       "actuals.newCases                                                                       8377\n",
       "actuals.vaccinesDistributed                                                               0\n",
       "actuals.vaccinationsInitiated                                                             0\n",
       "actuals.vaccinationsCompleted                                                             0\n",
       "metrics.testPositivityRatio                                                           1.352\n",
       "metrics.testPositivityRatioDetails                                                        0\n",
       "metrics.caseDensity                                                                    60.3\n",
       "metrics.contactTracerCapacityRatio                                                     3.17\n",
       "metrics.infectionRate                                                                 18.56\n",
       "metrics.infectionRateCI90                                                              3.19\n",
       "metrics.icuHeadroomRatio                                                               2.08\n",
       "metrics.icuHeadroomDetails                                                                0\n",
       "metrics.icuCapacityRatio                                                               8.19\n",
       "riskLevels.overall                                                                       10\n",
       "metrics.vaccinationsInitiatedRatio                                                        0\n",
       "metrics.vaccinationsCompletedRatio                                                        0\n",
       "actuals.newDeaths                                                                       137\n",
       "actuals.vaccinesAdministered                                                              0\n",
       "dtype: object"
      ]
     },
     "execution_count": 6,
     "metadata": {},
     "output_type": "execute_result"
    }
   ],
   "source": [
    "data[data.duplicated()].sum()"
   ]
  },
  {
   "cell_type": "markdown",
   "metadata": {},
   "source": [
    "# COVID information on the day of June, 16th, 2021."
   ]
  },
  {
   "cell_type": "markdown",
   "metadata": {},
   "source": [
    "# New deaths"
   ]
  },
  {
   "cell_type": "code",
   "execution_count": 7,
   "metadata": {},
   "outputs": [
    {
     "data": {
      "text/plain": [
       "date                                              2021-06-16\n",
       "country                                                   US\n",
       "state                                                     PA\n",
       "county                                                   NaN\n",
       "fips                                                      42\n",
       "lat                                                      NaN\n",
       "long                                                     NaN\n",
       "locationId                                iso1:us#iso2:us-pa\n",
       "actuals.cases                                    1.21405e+06\n",
       "actuals.deaths                                         27582\n",
       "actuals.positiveTests                            1.24639e+06\n",
       "actuals.negativeTests                            1.38894e+07\n",
       "actuals.contactTracers                                  1508\n",
       "actuals.hospitalBeds.capacity                            NaN\n",
       "actuals.hospitalBeds.currentUsageTotal                 26075\n",
       "actuals.hospitalBeds.currentUsageCovid                   747\n",
       "actuals.hospitalBeds.typicalUsageRate                    NaN\n",
       "actuals.icuBeds.capacity                                3773\n",
       "actuals.icuBeds.currentUsageTotal                       2751\n",
       "actuals.icuBeds.currentUsageCovid                        118\n",
       "actuals.icuBeds.typicalUsageRate                         NaN\n",
       "actuals.newCases                                         279\n",
       "actuals.vaccinesDistributed                      1.53962e+07\n",
       "actuals.vaccinationsInitiated                    7.81831e+06\n",
       "actuals.vaccinationsCompleted                    6.04506e+06\n",
       "metrics.testPositivityRatio                            0.014\n",
       "metrics.testPositivityRatioDetails                       NaN\n",
       "metrics.caseDensity                                      2.9\n",
       "metrics.contactTracerCapacityRatio                      0.82\n",
       "metrics.infectionRate                                    0.7\n",
       "metrics.infectionRateCI90                                0.1\n",
       "metrics.icuHeadroomRatio                                 0.1\n",
       "metrics.icuHeadroomDetails                               NaN\n",
       "metrics.icuCapacityRatio                                0.73\n",
       "riskLevels.overall                                         1\n",
       "metrics.vaccinationsInitiatedRatio                     0.611\n",
       "metrics.vaccinationsCompletedRatio                     0.472\n",
       "actuals.newDeaths                                         16\n",
       "actuals.vaccinesAdministered                     1.33666e+07\n",
       "Name: 491, dtype: object"
      ]
     },
     "execution_count": 7,
     "metadata": {},
     "output_type": "execute_result"
    }
   ],
   "source": [
    "dat=data.iloc[491]\n",
    "dat"
   ]
  },
  {
   "cell_type": "code",
   "execution_count": 8,
   "metadata": {},
   "outputs": [
    {
     "data": {
      "text/html": [
       "<div>\n",
       "<style scoped>\n",
       "    .dataframe tbody tr th:only-of-type {\n",
       "        vertical-align: middle;\n",
       "    }\n",
       "\n",
       "    .dataframe tbody tr th {\n",
       "        vertical-align: top;\n",
       "    }\n",
       "\n",
       "    .dataframe thead th {\n",
       "        text-align: right;\n",
       "    }\n",
       "</style>\n",
       "<table border=\"1\" class=\"dataframe\">\n",
       "  <thead>\n",
       "    <tr style=\"text-align: right;\">\n",
       "      <th></th>\n",
       "      <th>date</th>\n",
       "      <th>country</th>\n",
       "      <th>state</th>\n",
       "      <th>county</th>\n",
       "      <th>fips</th>\n",
       "      <th>lat</th>\n",
       "      <th>long</th>\n",
       "      <th>locationId</th>\n",
       "      <th>actuals.cases</th>\n",
       "      <th>actuals.deaths</th>\n",
       "      <th>...</th>\n",
       "      <th>metrics.infectionRate</th>\n",
       "      <th>metrics.infectionRateCI90</th>\n",
       "      <th>metrics.icuHeadroomRatio</th>\n",
       "      <th>metrics.icuHeadroomDetails</th>\n",
       "      <th>metrics.icuCapacityRatio</th>\n",
       "      <th>riskLevels.overall</th>\n",
       "      <th>metrics.vaccinationsInitiatedRatio</th>\n",
       "      <th>metrics.vaccinationsCompletedRatio</th>\n",
       "      <th>actuals.newDeaths</th>\n",
       "      <th>actuals.vaccinesAdministered</th>\n",
       "    </tr>\n",
       "  </thead>\n",
       "  <tbody>\n",
       "    <tr>\n",
       "      <td>484</td>\n",
       "      <td>2021-06-09</td>\n",
       "      <td>US</td>\n",
       "      <td>PA</td>\n",
       "      <td>NaN</td>\n",
       "      <td>42</td>\n",
       "      <td>NaN</td>\n",
       "      <td>NaN</td>\n",
       "      <td>iso1:us#iso2:us-pa</td>\n",
       "      <td>1211487.0</td>\n",
       "      <td>27472.0</td>\n",
       "      <td>...</td>\n",
       "      <td>0.71</td>\n",
       "      <td>0.1</td>\n",
       "      <td>0.16</td>\n",
       "      <td>NaN</td>\n",
       "      <td>0.77</td>\n",
       "      <td>1</td>\n",
       "      <td>0.599</td>\n",
       "      <td>0.457</td>\n",
       "      <td>26.0</td>\n",
       "      <td>13034223.0</td>\n",
       "    </tr>\n",
       "    <tr>\n",
       "      <td>485</td>\n",
       "      <td>2021-06-10</td>\n",
       "      <td>US</td>\n",
       "      <td>PA</td>\n",
       "      <td>NaN</td>\n",
       "      <td>42</td>\n",
       "      <td>NaN</td>\n",
       "      <td>NaN</td>\n",
       "      <td>iso1:us#iso2:us-pa</td>\n",
       "      <td>1212155.0</td>\n",
       "      <td>27493.0</td>\n",
       "      <td>...</td>\n",
       "      <td>0.71</td>\n",
       "      <td>0.1</td>\n",
       "      <td>0.16</td>\n",
       "      <td>NaN</td>\n",
       "      <td>0.75</td>\n",
       "      <td>1</td>\n",
       "      <td>0.601</td>\n",
       "      <td>0.459</td>\n",
       "      <td>21.0</td>\n",
       "      <td>13084043.0</td>\n",
       "    </tr>\n",
       "    <tr>\n",
       "      <td>486</td>\n",
       "      <td>2021-06-11</td>\n",
       "      <td>US</td>\n",
       "      <td>PA</td>\n",
       "      <td>NaN</td>\n",
       "      <td>42</td>\n",
       "      <td>NaN</td>\n",
       "      <td>NaN</td>\n",
       "      <td>iso1:us#iso2:us-pa</td>\n",
       "      <td>1212529.0</td>\n",
       "      <td>27510.0</td>\n",
       "      <td>...</td>\n",
       "      <td>0.71</td>\n",
       "      <td>0.1</td>\n",
       "      <td>0.15</td>\n",
       "      <td>NaN</td>\n",
       "      <td>0.73</td>\n",
       "      <td>1</td>\n",
       "      <td>0.603</td>\n",
       "      <td>0.461</td>\n",
       "      <td>17.0</td>\n",
       "      <td>13135306.0</td>\n",
       "    </tr>\n",
       "    <tr>\n",
       "      <td>487</td>\n",
       "      <td>2021-06-12</td>\n",
       "      <td>US</td>\n",
       "      <td>PA</td>\n",
       "      <td>NaN</td>\n",
       "      <td>42</td>\n",
       "      <td>NaN</td>\n",
       "      <td>NaN</td>\n",
       "      <td>iso1:us#iso2:us-pa</td>\n",
       "      <td>1212822.0</td>\n",
       "      <td>27526.0</td>\n",
       "      <td>...</td>\n",
       "      <td>0.71</td>\n",
       "      <td>0.1</td>\n",
       "      <td>0.12</td>\n",
       "      <td>NaN</td>\n",
       "      <td>0.70</td>\n",
       "      <td>1</td>\n",
       "      <td>0.606</td>\n",
       "      <td>0.464</td>\n",
       "      <td>16.0</td>\n",
       "      <td>13212289.0</td>\n",
       "    </tr>\n",
       "    <tr>\n",
       "      <td>488</td>\n",
       "      <td>2021-06-13</td>\n",
       "      <td>US</td>\n",
       "      <td>PA</td>\n",
       "      <td>NaN</td>\n",
       "      <td>42</td>\n",
       "      <td>NaN</td>\n",
       "      <td>NaN</td>\n",
       "      <td>iso1:us#iso2:us-pa</td>\n",
       "      <td>1213003.0</td>\n",
       "      <td>27540.0</td>\n",
       "      <td>...</td>\n",
       "      <td>0.71</td>\n",
       "      <td>0.1</td>\n",
       "      <td>0.11</td>\n",
       "      <td>NaN</td>\n",
       "      <td>0.68</td>\n",
       "      <td>1</td>\n",
       "      <td>0.608</td>\n",
       "      <td>0.467</td>\n",
       "      <td>14.0</td>\n",
       "      <td>13267983.0</td>\n",
       "    </tr>\n",
       "    <tr>\n",
       "      <td>489</td>\n",
       "      <td>2021-06-14</td>\n",
       "      <td>US</td>\n",
       "      <td>PA</td>\n",
       "      <td>NaN</td>\n",
       "      <td>42</td>\n",
       "      <td>NaN</td>\n",
       "      <td>NaN</td>\n",
       "      <td>iso1:us#iso2:us-pa</td>\n",
       "      <td>1213350.0</td>\n",
       "      <td>27543.0</td>\n",
       "      <td>...</td>\n",
       "      <td>0.70</td>\n",
       "      <td>0.1</td>\n",
       "      <td>0.12</td>\n",
       "      <td>NaN</td>\n",
       "      <td>0.73</td>\n",
       "      <td>1</td>\n",
       "      <td>0.609</td>\n",
       "      <td>0.470</td>\n",
       "      <td>3.0</td>\n",
       "      <td>13318101.0</td>\n",
       "    </tr>\n",
       "    <tr>\n",
       "      <td>490</td>\n",
       "      <td>2021-06-15</td>\n",
       "      <td>US</td>\n",
       "      <td>PA</td>\n",
       "      <td>NaN</td>\n",
       "      <td>42</td>\n",
       "      <td>NaN</td>\n",
       "      <td>NaN</td>\n",
       "      <td>iso1:us#iso2:us-pa</td>\n",
       "      <td>1213772.0</td>\n",
       "      <td>27566.0</td>\n",
       "      <td>...</td>\n",
       "      <td>0.70</td>\n",
       "      <td>0.1</td>\n",
       "      <td>0.13</td>\n",
       "      <td>NaN</td>\n",
       "      <td>0.77</td>\n",
       "      <td>1</td>\n",
       "      <td>0.611</td>\n",
       "      <td>0.472</td>\n",
       "      <td>23.0</td>\n",
       "      <td>13365625.0</td>\n",
       "    </tr>\n",
       "  </tbody>\n",
       "</table>\n",
       "<p>7 rows × 39 columns</p>\n",
       "</div>"
      ],
      "text/plain": [
       "           date country state  county  fips  lat  long          locationId  \\\n",
       "484  2021-06-09      US    PA     NaN    42  NaN   NaN  iso1:us#iso2:us-pa   \n",
       "485  2021-06-10      US    PA     NaN    42  NaN   NaN  iso1:us#iso2:us-pa   \n",
       "486  2021-06-11      US    PA     NaN    42  NaN   NaN  iso1:us#iso2:us-pa   \n",
       "487  2021-06-12      US    PA     NaN    42  NaN   NaN  iso1:us#iso2:us-pa   \n",
       "488  2021-06-13      US    PA     NaN    42  NaN   NaN  iso1:us#iso2:us-pa   \n",
       "489  2021-06-14      US    PA     NaN    42  NaN   NaN  iso1:us#iso2:us-pa   \n",
       "490  2021-06-15      US    PA     NaN    42  NaN   NaN  iso1:us#iso2:us-pa   \n",
       "\n",
       "     actuals.cases  actuals.deaths  ...  metrics.infectionRate  \\\n",
       "484      1211487.0         27472.0  ...                   0.71   \n",
       "485      1212155.0         27493.0  ...                   0.71   \n",
       "486      1212529.0         27510.0  ...                   0.71   \n",
       "487      1212822.0         27526.0  ...                   0.71   \n",
       "488      1213003.0         27540.0  ...                   0.71   \n",
       "489      1213350.0         27543.0  ...                   0.70   \n",
       "490      1213772.0         27566.0  ...                   0.70   \n",
       "\n",
       "     metrics.infectionRateCI90 metrics.icuHeadroomRatio  \\\n",
       "484                        0.1                     0.16   \n",
       "485                        0.1                     0.16   \n",
       "486                        0.1                     0.15   \n",
       "487                        0.1                     0.12   \n",
       "488                        0.1                     0.11   \n",
       "489                        0.1                     0.12   \n",
       "490                        0.1                     0.13   \n",
       "\n",
       "     metrics.icuHeadroomDetails  metrics.icuCapacityRatio  riskLevels.overall  \\\n",
       "484                         NaN                      0.77                   1   \n",
       "485                         NaN                      0.75                   1   \n",
       "486                         NaN                      0.73                   1   \n",
       "487                         NaN                      0.70                   1   \n",
       "488                         NaN                      0.68                   1   \n",
       "489                         NaN                      0.73                   1   \n",
       "490                         NaN                      0.77                   1   \n",
       "\n",
       "     metrics.vaccinationsInitiatedRatio  metrics.vaccinationsCompletedRatio  \\\n",
       "484                               0.599                               0.457   \n",
       "485                               0.601                               0.459   \n",
       "486                               0.603                               0.461   \n",
       "487                               0.606                               0.464   \n",
       "488                               0.608                               0.467   \n",
       "489                               0.609                               0.470   \n",
       "490                               0.611                               0.472   \n",
       "\n",
       "     actuals.newDeaths actuals.vaccinesAdministered  \n",
       "484               26.0                   13034223.0  \n",
       "485               21.0                   13084043.0  \n",
       "486               17.0                   13135306.0  \n",
       "487               16.0                   13212289.0  \n",
       "488               14.0                   13267983.0  \n",
       "489                3.0                   13318101.0  \n",
       "490               23.0                   13365625.0  \n",
       "\n",
       "[7 rows x 39 columns]"
      ]
     },
     "execution_count": 8,
     "metadata": {},
     "output_type": "execute_result"
    }
   ],
   "source": [
    "hack=data.iloc[484:491]\n",
    "hack"
   ]
  },
  {
   "cell_type": "code",
   "execution_count": 9,
   "metadata": {},
   "outputs": [
    {
     "data": {
      "text/plain": [
       "0.02658"
      ]
     },
     "execution_count": 9,
     "metadata": {},
     "output_type": "execute_result"
    }
   ],
   "source": [
    "wk=hack['actuals.newCases'].sum()/100000\n",
    "wk"
   ]
  },
  {
   "cell_type": "markdown",
   "metadata": {},
   "source": [
    "# state name"
   ]
  },
  {
   "cell_type": "code",
   "execution_count": 10,
   "metadata": {},
   "outputs": [
    {
     "data": {
      "text/plain": [
       "'PA'"
      ]
     },
     "execution_count": 10,
     "metadata": {},
     "output_type": "execute_result"
    }
   ],
   "source": [
    "state_name=dat[2]\n",
    "state_name"
   ]
  },
  {
   "cell_type": "markdown",
   "metadata": {},
   "source": [
    "# Today's date"
   ]
  },
  {
   "cell_type": "code",
   "execution_count": 11,
   "metadata": {},
   "outputs": [
    {
     "data": {
      "text/plain": [
       "'2021-06-16'"
      ]
     },
     "execution_count": 11,
     "metadata": {},
     "output_type": "execute_result"
    }
   ],
   "source": [
    "Today_date=dat[0]\n",
    "Today_date"
   ]
  },
  {
   "cell_type": "markdown",
   "metadata": {},
   "source": [
    "# cumulative_comfirm cases"
   ]
  },
  {
   "cell_type": "code",
   "execution_count": 12,
   "metadata": {},
   "outputs": [
    {
     "data": {
      "text/plain": [
       "1214330.0"
      ]
     },
     "execution_count": 12,
     "metadata": {},
     "output_type": "execute_result"
    }
   ],
   "source": [
    "cumulative_comfirm=dat[21] + dat[8] #actual cases + new cases\n",
    "cumulative_comfirm"
   ]
  },
  {
   "cell_type": "markdown",
   "metadata": {},
   "source": [
    "# cumulative_death"
   ]
  },
  {
   "cell_type": "code",
   "execution_count": 13,
   "metadata": {},
   "outputs": [
    {
     "data": {
      "text/plain": [
       "27598.0"
      ]
     },
     "execution_count": 13,
     "metadata": {},
     "output_type": "execute_result"
    }
   ],
   "source": [
    "cumulative_death= dat[37] + dat[9] # new death  + actual death\n",
    "cumulative_death"
   ]
  },
  {
   "cell_type": "markdown",
   "metadata": {},
   "source": [
    "# New cases"
   ]
  },
  {
   "cell_type": "code",
   "execution_count": 14,
   "metadata": {},
   "outputs": [
    {
     "data": {
      "text/plain": [
       "279.0"
      ]
     },
     "execution_count": 14,
     "metadata": {},
     "output_type": "execute_result"
    }
   ],
   "source": [
    "New_cases=dat[21]\n",
    "New_cases"
   ]
  },
  {
   "cell_type": "markdown",
   "metadata": {},
   "source": [
    "# New death"
   ]
  },
  {
   "cell_type": "code",
   "execution_count": 15,
   "metadata": {},
   "outputs": [
    {
     "data": {
      "text/plain": [
       "16.0"
      ]
     },
     "execution_count": 15,
     "metadata": {},
     "output_type": "execute_result"
    }
   ],
   "source": [
    "New_death=dat[37]\n",
    "New_death"
   ]
  },
  {
   "cell_type": "markdown",
   "metadata": {},
   "source": [
    "VACCINATION"
   ]
  },
  {
   "cell_type": "markdown",
   "metadata": {},
   "source": [
    "# Ratio of population that has completed vaccination"
   ]
  },
  {
   "cell_type": "code",
   "execution_count": 16,
   "metadata": {},
   "outputs": [
    {
     "data": {
      "text/plain": [
       "6045055.0"
      ]
     },
     "execution_count": 16,
     "metadata": {},
     "output_type": "execute_result"
    }
   ],
   "source": [
    "completed_vaccination=dat[24]\n",
    "completed_vaccination"
   ]
  },
  {
   "cell_type": "markdown",
   "metadata": {},
   "source": [
    "# Ratio of population that has initiated vaccination"
   ]
  },
  {
   "cell_type": "code",
   "execution_count": 17,
   "metadata": {},
   "outputs": [
    {
     "data": {
      "text/plain": [
       "7818311.0"
      ]
     },
     "execution_count": 17,
     "metadata": {},
     "output_type": "execute_result"
    }
   ],
   "source": [
    "initiated_vaccination=dat[23]\n",
    "initiated_vaccination"
   ]
  },
  {
   "cell_type": "code",
   "execution_count": 22,
   "metadata": {},
   "outputs": [],
   "source": [
    "#########################################\n",
    "\n",
    "PA, June 16th 2021\n",
    "    \n",
    "Infection\n",
    "        -New cases: 279\n",
    "        -New deaths: 19\n",
    "        -cumulative cases:1214330\n",
    "        -cumulative deaths:27598\n",
    "        -cases per 100k(Using a 7-day rolling average):0.02658\n",
    "Vaccination\n",
    "        -completed: 6045055\n",
    "        -initiated: 7818311\n",
    "##############################################"
   ]
  },
  {
   "cell_type": "code",
   "execution_count": 19,
   "metadata": {},
   "outputs": [],
   "source": [
    "import matplotlib.pyplot as plt\n",
    "import numpy as np \n",
    "import pandas as pd\n",
    "import matplotlib.pyplot as plt\n",
    "import matplotlib as mpl\n",
    "import seaborn as sns"
   ]
  },
  {
   "cell_type": "code",
   "execution_count": 20,
   "metadata": {},
   "outputs": [
    {
     "data": {
      "text/plain": [
       "1214051.0"
      ]
     },
     "execution_count": 20,
     "metadata": {},
     "output_type": "execute_result"
    }
   ],
   "source": [
    "actualCases=dat[8]\n",
    "actualCases"
   ]
  },
  {
   "cell_type": "code",
   "execution_count": 21,
   "metadata": {},
   "outputs": [
    {
     "data": {
      "text/plain": [
       "<matplotlib.axes._subplots.AxesSubplot at 0x1a69a22b6c8>"
      ]
     },
     "execution_count": 21,
     "metadata": {},
     "output_type": "execute_result"
    },
    {
     "data": {
      "image/png": "[encoded data removed]",
      "text/plain": [
       "<Figure size 432x288 with 1 Axes>"
      ]
     },
     "metadata": {
      "needs_background": "light"
     },
     "output_type": "display_data"
    }
   ],
   "source": [
    "import pandas as pd\n",
    "import numpy as np\n",
    "import seaborn as sns\n",
    "\n",
    "\n",
    "#a=data.plot(kind='line',x='actuals.cases',y='actuals.vaccinationsCompleted',color='black')\n",
    "#plt.show(a)\n",
    "sns.lineplot(data=data, x=\"actuals.cases\",y='metrics.vaccinationsCompletedRatio')"
   ]
  },
  {
   "cell_type": "code",
   "execution_count": null,
   "metadata": {},
   "outputs": [],
   "source": []
  }
 ],
 "metadata": {
  "kernelspec": {
   "display_name": "Python 3",
   "language": "python",
   "name": "python3"
  },
  "language_info": {
   "codemirror_mode": {
    "name": "ipython",
    "version": 3
   },
   "file_extension": ".py",
   "mimetype": "text/x-python",
   "name": "python",
   "nbconvert_exporter": "python",
   "pygments_lexer": "ipython3",
   "version": "3.7.4"
  }
 },
 "nbformat": 4,
 "nbformat_minor": 2
}
